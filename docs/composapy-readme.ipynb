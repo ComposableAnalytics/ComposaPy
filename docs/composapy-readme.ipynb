{
 "cells": [
  {
   "cell_type": "markdown",
   "source": [
    "# Composapy\n",
    "\n",
    "DataLabs comes pre-installed with Composapy, a python package that makes it easy to\n",
    "programmatically interface with Composable. Composapy allows you to interactively author, execute\n",
    "and retrieve results from DataFlows (Directed Acyclic Graphs, DAGs).\n",
    "\n",
    "Visit our [ReadTheDocs](https://composapy.readthedocs.io/html/) page a more detailed look at\n",
    "Composapy.\n",
    "\n",
    "\n",
    "- [Register a Session](#register-a-session)\n",
    "- [Create and Save a DataFlow](#create-and-save-a-dataflow)\n",
    "- [Run a DataFlow](#run-a-dataflow)\n",
    "- [DataFlowObject and DataFlowRun Modules](#dataflowobject-and-dataflowrun-modules)\n",
    "- [DataFlowObject and DataFlowRun Input](#dataflowobject-and-dataflowrun-input)\n",
    "- [DataFlowRun Result](#dataflowrun-result)\n",
    "\n",
    "\n",
    "- [Additional Information](#additional-information)\n",
    "\n",
    "## Quick-Start\n",
    "\n",
    "### Register a Session\n",
    "\n",
    "Composapy looks for the environment variable `APPLICATION_URI` by default (set by DataLabs). If you are using Composapy outside of the datalabs environment and the `APPLICATION_URI`\n",
    "environment variable is not set, you can set it with keyword argument `uri`. You can create a session with Windows Authentication (if you are in DataLab, this will be the same as the \n",
    "key on the DataLab edit screen), [`string`] API Token (can be generated on the composable website), or with a [`tuple[str, str]`] username/password combination."
   ],
   "metadata": {
    "collapsed": false
   }
  },
  {
   "cell_type": "code",
   "execution_count": null,
   "outputs": [],
   "source": [
    "from composapy.session import Session\n",
    "\n",
    "# use one of the following three methods of authentication\n",
    "session = Session(auth_mode=Session.AuthMode.WINDOWS)                                                                           # Windows Auth\n",
    "session = Session(auth_mode=Session.AuthMode.TOKEN, credentials=\"<your-api-token-here>\", uri=\"http://localhost/CompAnalytics/\") # Token\n",
    "session = Session(auth_mode=Session.AuthMode.FORM, credentials=(\"username\", \"password\"))                                        # Form\n",
    "\n",
    "session.register()  # register your session so that composapy uses this"
   ],
   "metadata": {
    "collapsed": false,
    "pycharm": {
     "name": "#%%\n"
    }
   }
  },
  {
   "cell_type": "markdown",
   "source": [
    "### Create and Save a DataFlow\n",
    "\n",
    "[DataFlowObject's](#dataflowobject) can be initialized with the [DataFlow API](#dataflow) method - [create](#create). It takes either a json string (_kwarg_ `json`) or path to a json file (_kwarg_ `file_path`) as parameters. Call the `save` method on an unsaved `DataFlowObject` to save it in the Composable database. Saving it will make give it an `id`, making it available for use in the [Composable Designer](https://github.com/ComposableAnalytics/Docs/blob/master/docs/DataFlows/02.Composable-Designer.md)."
   ],
   "metadata": {
    "collapsed": false
   }
  },
  {
   "cell_type": "code",
   "execution_count": null,
   "outputs": [],
   "source": [
    "from composapy.dataflow.api import DataFlow\n",
    "\n",
    "dataflow_object = DataFlow.create(file_path=\"simple-dataflow.json\")         # DataFlowObject(id=None)\n",
    "dataflow_object = DataFlow.create(file_path=\"simple-dataflow.json\").save()  # DataFlowObject(id=123456)"
   ],
   "metadata": {
    "collapsed": false,
    "pycharm": {
     "name": "#%%\n"
    }
   }
  },
  {
   "cell_type": "markdown",
   "source": [
    "### Run a DataFlow\n",
    "\n",
    "To run a saved DataFlow, you can retrieve the `appId` in the DataFlow's URL."
   ],
   "metadata": {
    "collapsed": false
   }
  },
  {
   "cell_type": "code",
   "execution_count": null,
   "outputs": [],
   "source": [
    "dataflow_run = DataFlow.run(444333)  # DataFlowRun(id=444333)"
   ],
   "metadata": {
    "collapsed": false,
    "pycharm": {
     "name": "#%%\n"
    }
   }
  },
  {
   "cell_type": "markdown",
   "source": [
    "To run a DataFlow that has external input modules, use the `external_inputs` kwarg, which is a dictionary with key equal to the external modules name field and the value equal to what you want to pass in."
   ],
   "metadata": {
    "collapsed": false
   }
  },
  {
   "cell_type": "code",
   "execution_count": null,
   "outputs": [],
   "source": [
    "dataflow_run = DataFlow.run(444333, external_inputs={\"a_string_external_input\": \"foo string\"})   # DataFlowRun(id=444333)"
   ],
   "metadata": {
    "collapsed": false,
    "pycharm": {
     "name": "#%%\n"
    }
   }
  },
  {
   "cell_type": "markdown",
   "source": [
    "### DataFlowObject and DataFlowRun Modules"
   ],
   "metadata": {
    "collapsed": false
   }
  },
  {
   "cell_type": "code",
   "execution_count": null,
   "outputs": [],
   "source": [
    "dataflow_run.modules[0]  # Module(name='Calculator', type=Calculator)"
   ],
   "metadata": {
    "collapsed": false,
    "pycharm": {
     "name": "#%%\n"
    }
   }
  },
  {
   "cell_type": "markdown",
   "source": [
    "### DataFlowObject and DataFlowRun Input"
   ],
   "metadata": {
    "collapsed": false
   }
  },
  {
   "cell_type": "code",
   "execution_count": null,
   "outputs": [],
   "source": [
    "dataflow_object.modules.filter(name=\"calc module name\")[0].inputs.first()  # Input(name=Param1, type=Double, value=1.0)"
   ],
   "metadata": {
    "collapsed": false,
    "pycharm": {
     "name": "#%%\n"
    }
   }
  },
  {
   "cell_type": "markdown",
   "source": [
    "### DataFlowRun Result"
   ],
   "metadata": {
    "collapsed": false
   }
  },
  {
   "cell_type": "code",
   "execution_count": null,
   "outputs": [],
   "source": [
    "dataflow_run.modules.get(name=\"string module name\").result           # Result(name='foo name', type=String, value='foo value')"
   ],
   "metadata": {
    "collapsed": false,
    "pycharm": {
     "name": "#%%\n"
    }
   }
  },
  {
   "cell_type": "markdown",
   "source": [
    "## Additional Information\n",
    "\n",
    "Also, if you want to interface with <a href=\"https://github.com/pythonnet/pythonnet\" target=\"_blank\">pythonnet</a> more closely -- you can find our csharp documentation <a href=\"https://dev.composable.ai/api/CompAnalytics.Contracts.html\" target=\"_blank\">here</a>."
   ],
   "metadata": {
    "collapsed": false
   }
  }
 ],
 "metadata": {
  "jupytext": {
   "notebook_metadata_filter": "-all"
  },
  "kernelspec": {
   "display_name": "Python 3 (ipykernel)",
   "language": "python",
   "name": "python3"
  },
  "language_info": {
   "codemirror_mode": {
    "name": "ipython",
    "version": 3
   },
   "file_extension": ".py",
   "mimetype": "text/x-python",
   "name": "python",
   "nbconvert_exporter": "python",
   "pygments_lexer": "ipython3",
   "version": "3.8.10"
  }
 },
 "nbformat": 4,
 "nbformat_minor": 5
}