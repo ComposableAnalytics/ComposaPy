{
 "cells": [
  {
   "cell_type": "markdown",
   "source": [
    "# [readme] composapy\n",
    "\n",
    "DataLabs comes pre-installed with Composapy, a python package that makes it easy to\n",
    "programmatically interface with Composable. Composapy allows you to interactively author, execute\n",
    "and retrieve results from DataFlows (Directed Acyclic Graphs, DAGs).\n",
    "\n",
    "- [#Quick-Start](#quick-start) : some simple use cases and examples\n",
    "- [#Documentation](#documentation) : more details about the components\n",
    "- [#Additional-Information](#additional-information) : some other links to information outside of this repo\n",
    "\n",
    "## Quick-Start\n",
    "\n",
    "### Register a Session\n",
    "\n",
    "Composapy looks for the environment variable `APPLICATION_URI` by default (set by DataLabs). If you are using Composapy outside of the datalabs environment and the `APPLICATION_URI`\n",
    "environment variable is not set, you can set it with keyword argument `uri`. You can create a session with Windows Authentication (if you are in DataLab, this will be the same as the \n",
    "key on the DataLab edit screen), [`string`] API Token (can be generated on the composable website), or with a [`tuple[str, str]`] username/password combination."
   ],
   "metadata": {
    "collapsed": false
   }
  },
  {
   "cell_type": "code",
   "execution_count": null,
   "outputs": [],
   "source": [
    "from composapy.session import Session\n",
    "\n",
    "# use one of the following three methods of authentication\n",
    "session = Session(auth_mode=Session.AuthMode.WINDOWS)                                                                           # Windows Auth\n",
    "session = Session(auth_mode=Session.AuthMode.TOKEN, credentials=\"<your-api-token-here>\", uri=\"http://localhost/CompAnalytics/\") # Token\n",
    "session = Session(auth_mode=Session.AuthMode.FORM, credentials=(\"username\", \"password\"))                                        # Form\n",
    "\n",
    "session.register()  # register your session so that composapy uses this"
   ],
   "metadata": {
    "collapsed": false,
    "pycharm": {
     "name": "#%%\n"
    }
   }
  },
  {
   "cell_type": "markdown",
   "source": [
    "### Create/Save a DataFlow\n",
    "\n",
    "[DataFlowObject's](#dataflowobject) can be initialized with the [DataFlow API](#dataflow) method - [create](#create). It takes either a json string (_kwarg_ `json`) or path to a json file (_kwarg_ `file_path`) as parameters. Call the `save` method on an unsaved `DataFlowObject` to save it in the Composable database. Saving it will make give it an `id`, making it available for use in the [Composable Designer](https://github.com/ComposableAnalytics/Docs/blob/master/docs/DataFlows/02.Composable-Designer.md)."
   ],
   "metadata": {
    "collapsed": false
   }
  },
  {
   "cell_type": "code",
   "execution_count": null,
   "outputs": [],
   "source": [
    "from composapy.dataflow.api import DataFlow\n",
    "\n",
    "dataflow_object = DataFlow.create(file_path=\"simple-dataflow.json\")         # DataFlowObject(id=None)\n",
    "dataflow_object = DataFlow.create(file_path=\"simple-dataflow.json\").save()  # DataFlowObject(id=123456)"
   ],
   "metadata": {
    "collapsed": false,
    "pycharm": {
     "name": "#%%\n"
    }
   }
  },
  {
   "cell_type": "markdown",
   "source": [
    "### Run a DataFlow\n",
    "\n",
    "To run a saved DataFlow, you can retrieve the `appId` in the DataFlow's URL."
   ],
   "metadata": {
    "collapsed": false
   }
  },
  {
   "cell_type": "code",
   "execution_count": null,
   "outputs": [],
   "source": [
    "dataflow_run = DataFlow.run(444333)  # DataFlowRun(id=444333)"
   ],
   "metadata": {
    "collapsed": false,
    "pycharm": {
     "name": "#%%\n"
    }
   }
  },
  {
   "cell_type": "markdown",
   "source": [
    "To run a DataFlow that has external input modules, use the `external_inputs` kwarg, which is a dictionary with key equal to the external modules name field and the value equal to what you want to pass in."
   ],
   "metadata": {
    "collapsed": false
   }
  },
  {
   "cell_type": "code",
   "execution_count": null,
   "outputs": [],
   "source": [
    "dataflow_run = DataFlow.run(444333, external_inputs={\"a_string_external_input\": \"foo string\"})   # DataFlowRun(id=444333)"
   ],
   "metadata": {
    "collapsed": false,
    "pycharm": {
     "name": "#%%\n"
    }
   }
  },
  {
   "cell_type": "markdown",
   "source": [
    "### DataFlowObject/DataFlowRun Modules"
   ],
   "metadata": {
    "collapsed": false
   }
  },
  {
   "cell_type": "code",
   "execution_count": null,
   "outputs": [],
   "source": [
    "dataflow_run.modules[0]  # Module(name='Calculator', type=Calculator)"
   ],
   "metadata": {
    "collapsed": false,
    "pycharm": {
     "name": "#%%\n"
    }
   }
  },
  {
   "cell_type": "markdown",
   "source": [
    "### DataFlowObject/DataFlowRun Input"
   ],
   "metadata": {
    "collapsed": false
   }
  },
  {
   "cell_type": "code",
   "execution_count": null,
   "outputs": [],
   "source": [
    "dataflow_object.modules.filter(name=\"calc module name\")[0].inputs.first()  # Input(name=Param1, type=Double, value=1.0)"
   ],
   "metadata": {
    "collapsed": false,
    "pycharm": {
     "name": "#%%\n"
    }
   }
  },
  {
   "cell_type": "markdown",
   "source": [
    "### DataFlowRun Result"
   ],
   "metadata": {
    "collapsed": false
   }
  },
  {
   "cell_type": "code",
   "execution_count": null,
   "outputs": [],
   "source": [
    "dataflow_run.modules.get(name=\"string module name\").result           # Result(name='foo name', type=String, value='foo value')"
   ],
   "metadata": {
    "collapsed": false,
    "pycharm": {
     "name": "#%%\n"
    }
   }
  },
  {
   "cell_type": "markdown",
   "source": [
    "## Documentation\n",
    "\n",
    "You can find more detailed documentation on our [readthedocs](https://composapy.readthedocs.io/)."
   ],
   "metadata": {
    "collapsed": false
   }
  },
  {
   "cell_type": "markdown",
   "source": [
    "### CompAnalytics.Contracts.Tables.Table"
   ],
   "metadata": {
    "collapsed": false
   }
  },
  {
   "cell_type": "code",
   "execution_count": null,
   "outputs": [],
   "source": [
    "from CompAnalytics.Contracts.Tables import Table"
   ],
   "metadata": {
    "collapsed": false,
    "pycharm": {
     "name": "#%%\n"
    }
   }
  },
  {
   "cell_type": "markdown",
   "source": [
    "C# Contracts Reference - [CompAnalytics.Contracts.Tables.Table](https://dev.composable.ai/api/CompAnalytics.Contracts.Tables.Table.html)\n",
    "\n",
    "`Table` objects are container objects for queries. For convenience, their results are displayed\n",
    "as a pandas DataFrame in a notebook environment."
   ],
   "metadata": {
    "collapsed": false
   }
  },
  {
   "cell_type": "code",
   "execution_count": null,
   "outputs": [],
   "source": [
    "table_run = DataFlow.get_run(138123)\n",
    "table_run.modules.first().result.value\n",
    "\n",
    "# .to_markdown() was used for markdown presentation purposes\n",
    "# \n",
    "# +----+-----+-----+-----+\n",
    "# |    | a   | o   | e   |\n",
    "# +====+=====+=====+=====+\n",
    "# |  0 | a   | o   | e   |\n",
    "# +----+-----+-----+-----+\n",
    "# |  1 | e   |     |     |\n",
    "# +----+-----+-----+-----+\n",
    "# |  2 | e   |     |     |\n",
    "# +----+-----+-----+-----+"
   ],
   "metadata": {
    "collapsed": false,
    "pycharm": {
     "name": "#%%\n"
    }
   }
  },
  {
   "cell_type": "markdown",
   "source": [
    "You can use `.to_pandas()` to get the pandas DataFrame representation of a `Table` object."
   ],
   "metadata": {
    "collapsed": false
   }
  },
  {
   "cell_type": "code",
   "execution_count": null,
   "outputs": [],
   "source": [
    "table = table_run.modules.first().result.value  # CompAnalytics.Contracts.Tables.Table\n",
    "table_df = table.to_pandas()                    # pandas.DataFrame"
   ],
   "metadata": {
    "collapsed": false,
    "pycharm": {
     "name": "#%%\n"
    }
   }
  },
  {
   "cell_type": "markdown",
   "source": [
    "### CompAnalytics.Contracts.FileReference"
   ],
   "metadata": {
    "collapsed": false
   }
  },
  {
   "cell_type": "code",
   "execution_count": null,
   "outputs": [],
   "source": [
    "from CompAnalytics.Contracts import FileReference"
   ],
   "metadata": {
    "collapsed": false,
    "pycharm": {
     "name": "#%%\n"
    }
   }
  },
  {
   "cell_type": "markdown",
   "source": [
    "C# Contracts Reference - [CompAnalytics.Contracts.FileReference](https://dev.composable.ai/api/CompAnalytics.Contracts.FileReference.html)\n",
    "\n",
    "For DataFlows that contain values of type `FileReference`, the `value` property contains the\n",
    "necessary information needed to retrieve the file. Composapy adds a convenience method,\n",
    "`to_file`, directly on the `FileReference` class. This gives you the ability to call `to_file`\n",
    "method directly on your `FileReference` object, which downloads the file to your local workspace\n",
    "and returns a `FileReference` pointing to the newly created file.\n",
    "\n",
    "#### to_file\n",
    "\n",
    "- file_reference.to_file(save_dir: pathlib.Path | str = None, file_name: str = None) -> CompAnalytics.Contracts.FileReference\n",
    "\n",
    "If no `save_dir` is provided, it uses the current working directory. If no `file_name` is\n",
    "provided, it will use the source file name."
   ],
   "metadata": {
    "collapsed": false
   }
  },
  {
   "cell_type": "code",
   "execution_count": null,
   "outputs": [],
   "source": [
    "run = DataFlow.get_run(654321)\n",
    "run.modules.first().result.value.to_file(save_dir=\"optional/relative/path/to/dir\", file_name=\"optional_name.txt\")"
   ],
   "metadata": {
    "collapsed": false,
    "pycharm": {
     "name": "#%%\n"
    }
   }
  },
  {
   "cell_type": "markdown",
   "source": [
    "### file_ref\n",
    "\n",
    "If you need to create a new file reference (to pass as external inputs to a DataFlow), you can\n",
    "use the `file_ref` utility function.\n",
    "\n",
    "- file_ref(path_like: pathlib.Path | str) -> CompAnalytics.Contracts.FileReference"
   ],
   "metadata": {
    "collapsed": false
   }
  },
  {
   "cell_type": "code",
   "execution_count": null,
   "outputs": [],
   "source": [
    "from composapy import file_ref\n",
    "_ref = file_ref(\"path/to/file.txt\")  # CompAnalytics.Contracts.FileReference"
   ],
   "metadata": {
    "collapsed": false,
    "pycharm": {
     "name": "#%%\n"
    }
   }
  },
  {
   "cell_type": "markdown",
   "source": [
    "## Additional Information\n",
    "\n",
    "Also, if you want to interface with <a href=\"https://github.com/pythonnet/pythonnet\" target=\"_blank\">pythonnet</a> more closely -- you can find our csharp documentation <a href=\"https://dev.composable.ai/api/CompAnalytics.Contracts.html\" target=\"_blank\">here</a>."
   ],
   "metadata": {
    "collapsed": false
   }
  }
 ],
 "metadata": {
  "jupytext": {
   "notebook_metadata_filter": "-all"
  },
  "kernelspec": {
   "display_name": "Python 3 (ipykernel)",
   "language": "python",
   "name": "python3"
  },
  "language_info": {
   "codemirror_mode": {
    "name": "ipython",
    "version": 3
   },
   "file_extension": ".py",
   "mimetype": "text/x-python",
   "name": "python",
   "nbconvert_exporter": "python",
   "pygments_lexer": "ipython3",
   "version": "3.8.10"
  }
 },
 "nbformat": 4,
 "nbformat_minor": 5
}