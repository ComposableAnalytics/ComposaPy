{
 "cells": [
  {
   "cell_type": "markdown",
   "id": "d1f65e0b-0308-41b0-9dac-4471d6540d6a",
   "metadata": {
    "tags": []
   },
   "source": [
    "# [readme] composapy"
   ]
  },
  {
   "cell_type": "markdown",
   "id": "597993a2-ca97-430a-8894-437e66473bbd",
   "metadata": {},
   "source": [
    "Composapy comes packaged with DataLabs. Composapy binds features such as DataFlows or other Composable products for use in a Python environment.\n",
    "\n",
    "- [#Quick-Start](#quick-start) : some simple use cases and examples\n",
    "- [#Reference](#reference) : more details about the components\n",
    "- [#Additional-Information](#additional-information) : some other links to information outside of this repo"
   ]
  },
  {
   "cell_type": "markdown",
   "id": "d0414a31",
   "metadata": {},
   "source": [
    "## Quick-Start"
   ]
  },
  {
   "cell_type": "markdown",
   "id": "502c1ec7-c5d1-4b80-be84-d9ac3eb6ec62",
   "metadata": {},
   "source": [
    "### Create a Session / Create a DataFlow (API)"
   ]
  },
  {
   "cell_type": "markdown",
   "metadata": {
    "collapsed": false,
    "pycharm": {
     "name": "#%% md\n"
    }
   },
   "source": [
    "Composapy looks for the environment variable `APPLICATION_URI` by default (set by DataLabs). If you are using Composapy outside of the datalabs environment and the `APPLICATION_URI`\n",
    "environment variable is not set, you can set it with keyword argument `uri`."
   ]
  },
  {
   "cell_type": "code",
   "execution_count": 3,
   "id": "5c4227fb-b131-4d72-a39c-bb7d90cccbbd",
   "metadata": {},
   "outputs": [],
   "source": [
    "from composapy.session import Session\n",
    "from composapy.dataflow.api import DataFlow\n",
    "\n",
    "session = Session(\"<your-api-token-here>\")  # session = Session(\"<your-api-token-here>\", uri=\"http://localhost/CompAnalytics/\")\n",
    "dataflow_api = DataFlow(session)"
   ]
  },
  {
   "cell_type": "markdown",
   "id": "0eeb870e",
   "metadata": {},
   "source": [
    "### Create/Save a DataFlow"
   ]
  },
  {
   "cell_type": "markdown",
   "id": "b3b2cb3b",
   "metadata": {},
   "source": [
    "[DataFlowObject's](#dataflowobject) can be initialized with the [DataFlow API](#dataflow) method - [create](#create). It takes either a json string (_kwarg_ `json`) or path to a json file (_kwarg_ `file_path`) as parameters. Call the `save` method on an unsaved `DataFlowObject` to save it in the Composable database. Saving it will make give it an `id`, making it available for use in the [Composable Designer](https://github.com/ComposableAnalytics/Docs/blob/master/docs/DataFlows/02.Composable-Designer.md)."
   ]
  },
  {
   "cell_type": "code",
   "execution_count": null,
   "id": "13c9e4fc",
   "metadata": {},
   "outputs": [],
   "source": [
    "dataflow_object = dataflow_api.create(file_path=\"simple-dataflow.json\")         # DataFlowObject(id=None)\n",
    "dataflow_object = dataflow_api.create(file_path=\"simple-dataflow.json\").save()  # DataFlowObject(id=123456)"
   ]
  },
  {
   "cell_type": "markdown",
   "id": "140579b6",
   "metadata": {},
   "source": [
    "### Run a DataFlow"
   ]
  },
  {
   "cell_type": "markdown",
   "id": "60b6b465",
   "metadata": {},
   "source": [
    "To run a saved DataFlow, you can retrieve the `appId` in the DataFlow's URL."
   ]
  },
  {
   "cell_type": "code",
   "execution_count": null,
   "id": "1a2192f9",
   "metadata": {},
   "outputs": [],
   "source": [
    "dataflow_run = dataflow_api.run(444333)  # DataFlowRun(id=444333)"
   ]
  },
  {
   "cell_type": "markdown",
   "id": "655f7d34",
   "metadata": {},
   "source": [
    "To run a DataFlow that has external input modules, use the `external_inputs` kwarg, which is a dictionary with key equal to the external modules name field and the value equal to what you want to pass in."
   ]
  },
  {
   "cell_type": "code",
   "execution_count": null,
   "id": "d2c97711",
   "metadata": {},
   "outputs": [],
   "source": [
    "dataflow_run = dataflow_api.run(444333, external_inputs={\"a_string_external_input\": \"foo string\"})   # DataFlowRun(id=444333)"
   ]
  },
  {
   "cell_type": "markdown",
   "id": "1c28c4ca",
   "metadata": {},
   "source": [
    "### DataFlowObject/DataFlowRun Modules"
   ]
  },
  {
   "cell_type": "code",
   "execution_count": null,
   "id": "55f5b572",
   "metadata": {},
   "outputs": [],
   "source": [
    "dataflow_run.modules[0]  # Module(name='Calculator', type=Calculator)"
   ]
  },
  {
   "cell_type": "markdown",
   "id": "1c28c4ca",
   "metadata": {},
   "source": [
    "### DataFlowObject/DataFlowRun Input"
   ]
  },
  {
   "cell_type": "code",
   "execution_count": null,
   "id": "55f5b572",
   "metadata": {},
   "outputs": [],
   "source": [
    "dataflow_object.modules.filter(name=\"calc module name\")[0].inputs.first()  # Input(name=Param1, type=Double, value=1.0)"
   ]
  },
  {
   "cell_type": "markdown",
   "id": "1c28c4ca",
   "metadata": {},
   "source": [
    "### DataFlowRun Result"
   ]
  },
  {
   "cell_type": "code",
   "execution_count": null,
   "id": "55f5b572",
   "metadata": {},
   "outputs": [],
   "source": [
    "dataflow_run.modules.get(name=\"string module name\").result           # Result(name='foo name', type=String, value='foo value')"
   ]
  },
  {
   "cell_type": "markdown",
   "id": "20ca4b53-ce15-44f7-a531-0fadb1d4a343",
   "metadata": {},
   "source": [
    "## Reference"
   ]
  },
  {
   "cell_type": "markdown",
   "id": "9ba321e4",
   "metadata": {},
   "source": [
    "### Session"
   ]
  },
  {
   "cell_type": "markdown",
   "id": "04614599",
   "metadata": {},
   "source": [
    "#### \\_\\_init\\_\\_"
   ]
  },
  {
   "cell_type": "markdown",
   "id": "25f8d599",
   "metadata": {},
   "source": [
    "- Session(api_token: str, uri: str = None)"
   ]
  },
  {
   "cell_type": "code",
   "execution_count": null,
   "id": "1d7c4179",
   "metadata": {},
   "outputs": [],
   "source": [
    "session = Session(\"<your-api-token-here>\")\n",
    "# session = Session(\"<your-api-token-here>\", uri=\"http://localhost/CompAnalytics/\")"
   ]
  },
  {
   "cell_type": "markdown",
   "id": "024d5d89",
   "metadata": {},
   "source": [
    "### DataFlow"
   ]
  },
  {
   "cell_type": "markdown",
   "id": "04614599",
   "metadata": {},
   "source": [
    "#### \\_\\_init\\_\\_"
   ]
  },
  {
   "cell_type": "markdown",
   "id": "af973967",
   "metadata": {},
   "source": [
    "- DataFlow(session: Session)"
   ]
  },
  {
   "cell_type": "code",
   "execution_count": null,
   "id": "62abbcc4",
   "metadata": {},
   "outputs": [],
   "source": [
    "dataflow_api = DataFlow(session)"
   ]
  },
  {
   "cell_type": "markdown",
   "id": "f21b39b7",
   "metadata": {},
   "source": [
    "#### get"
   ]
  },
  {
   "cell_type": "markdown",
   "id": "f56f4a39",
   "metadata": {},
   "source": [
    "- get(id: int) -> DataFlowObject"
   ]
  },
  {
   "cell_type": "code",
   "execution_count": null,
   "id": "1b756f35",
   "metadata": {},
   "outputs": [],
   "source": [
    "dataflow_api.get(123456)  # DataFlowObject(id=123456)"
   ]
  },
  {
   "cell_type": "markdown",
   "id": "b89efd20",
   "metadata": {},
   "source": [
    "#### get_run"
   ]
  },
  {
   "cell_type": "markdown",
   "id": "64a01b97",
   "metadata": {},
   "source": [
    "- get_run(id: int) -> DataFlowRun"
   ]
  },
  {
   "cell_type": "code",
   "execution_count": null,
   "id": "eae82a30",
   "metadata": {},
   "outputs": [],
   "source": [
    "dataflow_api.get_run(654321)  # DataFlowRun(id=654321)"
   ]
  },
  {
   "cell_type": "markdown",
   "metadata": {
    "collapsed": false,
    "pycharm": {
     "name": "#%% md\n"
    }
   },
   "source": [
    "#### create"
   ]
  },
  {
   "cell_type": "markdown",
   "id": "971999f8",
   "metadata": {},
   "source": [
    "- create(json: str = None, file_path: str = None) -> DataFlowObject"
   ]
  },
  {
   "cell_type": "markdown",
   "id": "4dec17dc",
   "metadata": {},
   "source": [
    "json **or** file_path. Supplying arguments to both will raise exception."
   ]
  },
  {
   "cell_type": "code",
   "execution_count": null,
   "id": "53c6906e",
   "metadata": {},
   "outputs": [],
   "source": [
    "dataflow_api.create(file_path=\"simple-dataflow.json\")  # DataFlowObject(id=None)"
   ]
  },
  {
   "cell_type": "markdown",
   "id": "2e159175",
   "metadata": {},
   "source": [
    "#### run"
   ]
  },
  {
   "cell_type": "markdown",
   "id": "9c711185",
   "metadata": {},
   "source": [
    "If there are any external inputs in the DataFlow, you can supply them with (_kwarg_ `external_inputs`). It takes the external input name as a key and the external input value as value. You can find more about external input modules [here](https://github.com/ComposableAnalytics/Docs/blob/master/docs/DataFlows/06.DataFlow-Reuse.md#creation)."
   ]
  },
  {
   "cell_type": "markdown",
   "id": "e6476fb0",
   "metadata": {},
   "source": [
    "- run(id: int) -> DataFlowRun"
   ]
  },
  {
   "cell_type": "code",
   "execution_count": null,
   "id": "bb8b65c9",
   "metadata": {},
   "outputs": [],
   "source": [
    "dataflow_api.run(123456)  # DataFlowRun(id=234567)"
   ]
  },
  {
   "cell_type": "markdown",
   "id": "e6476fb0",
   "metadata": {},
   "source": [
    "- run(id: int, external_inputs: Dict[str, any]) -> DataFlowRun"
   ]
  },
  {
   "cell_type": "code",
   "execution_count": null,
   "id": "af2cd793",
   "metadata": {},
   "outputs": [],
   "source": [
    "dataflow_api.run(123456, external_inputs={\"external_int_input_name\": 3})  # DataFlowRun(id=333222)"
   ]
  },
  {
   "cell_type": "markdown",
   "id": "08f48856",
   "metadata": {},
   "source": [
    "### DataFlowObject"
   ]
  },
  {
   "cell_type": "markdown",
   "id": "27b7deaf",
   "metadata": {},
   "source": [
    "#### contract -> CompAnalytics.Contracts.Application"
   ]
  },
  {
   "cell_type": "markdown",
   "id": "91198b31",
   "metadata": {},
   "source": [
    "**Note:** DataFlowObject ID's are unique and different from DataFlowRun ID's.\n",
    "\n",
    "Using the [DataFlow](#dataflow) api, you can retrieve saved _dataflows_ as `DataFlowObject`'s."
   ]
  },
  {
   "cell_type": "code",
   "execution_count": null,
   "id": "69c4c277",
   "metadata": {},
   "outputs": [],
   "source": [
    "dataflow_object = dataflow_api.get(123456)  # DataFlowObject(id=123456)"
   ]
  },
  {
   "cell_type": "markdown",
   "id": "44eecb94",
   "metadata": {},
   "source": [
    "#### save"
   ]
  },
  {
   "cell_type": "markdown",
   "id": "3ce20c60",
   "metadata": {},
   "source": [
    "- save() -> DataFlowObject"
   ]
  },
  {
   "cell_type": "code",
   "execution_count": null,
   "id": "1539745f",
   "metadata": {},
   "outputs": [],
   "source": [
    "dataflow_object = dataflow_api.create(file_path=\"dataflow.json\")  # DataFlowObject(id=None)\n",
    "dataflow_object.save()                                            # DataFlowObject(id=123456)"
   ]
  },
  {
   "cell_type": "markdown",
   "id": "0f58580d",
   "metadata": {},
   "source": [
    "#### run"
   ]
  },
  {
   "cell_type": "markdown",
   "id": "07d40eb6",
   "metadata": {},
   "source": [
    "- run() -> DataFlowRun"
   ]
  },
  {
   "cell_type": "code",
   "execution_count": null,
   "id": "15a020a2",
   "metadata": {},
   "outputs": [],
   "source": [
    "dataflow_run = dataflow_object.run()  # DataFlowRun(id=234567)"
   ]
  },
  {
   "cell_type": "markdown",
   "id": "2adbd83e",
   "metadata": {},
   "source": [
    "#### Properties"
   ]
  },
  {
   "cell_type": "markdown",
   "id": "48d697b5",
   "metadata": {},
   "source": [
    "##### id -> int"
   ]
  },
  {
   "cell_type": "markdown",
   "id": "48d697b5",
   "metadata": {},
   "source": [
    "##### module -> Module"
   ]
  },
  {
   "cell_type": "markdown",
   "id": "48d697b5",
   "metadata": {},
   "source": [
    "##### modules -> ModuleSet"
   ]
  },
  {
   "cell_type": "markdown",
   "id": "08f48856",
   "metadata": {},
   "source": [
    "### DataFlowRun"
   ]
  },
  {
   "cell_type": "markdown",
   "id": "27b7deaf",
   "metadata": {},
   "source": [
    "#### contract -> CompAnalytics.Contracts.ExecutionState"
   ]
  },
  {
   "cell_type": "markdown",
   "id": "2adbd83e",
   "metadata": {},
   "source": [
    "#### Properties"
   ]
  },
  {
   "cell_type": "markdown",
   "id": "48d697b5",
   "metadata": {},
   "source": [
    "##### id -> int"
   ]
  },
  {
   "cell_type": "markdown",
   "id": "48d697b5",
   "metadata": {},
   "source": [
    "##### app_id -> int"
   ]
  },
  {
   "cell_type": "markdown",
   "id": "48d697b5",
   "metadata": {},
   "source": [
    "Refers to the application id this run is a part of. This can be None if it was run with an unsaved DataFlow."
   ]
  },
  {
   "cell_type": "markdown",
   "id": "48d697b5",
   "metadata": {},
   "source": [
    "##### module -> Module"
   ]
  },
  {
   "cell_type": "markdown",
   "id": "48d697b5",
   "metadata": {},
   "source": [
    "##### modules -> ModuleSet"
   ]
  },
  {
   "cell_type": "markdown",
   "id": "08f48856",
   "metadata": {},
   "source": [
    "### Module"
   ]
  },
  {
   "cell_type": "markdown",
   "id": "08f48856",
   "metadata": {},
   "source": [
    "#### contract -> CompAnalytics.Contracts.Module"
   ]
  },
  {
   "cell_type": "markdown",
   "id": "08f48856",
   "metadata": {},
   "source": [
    "#### name -> str"
   ]
  },
  {
   "cell_type": "markdown",
   "id": "08f48856",
   "metadata": {},
   "source": [
    "#### type -> any"
   ]
  },
  {
   "cell_type": "markdown",
   "id": "08f48856",
   "metadata": {},
   "source": [
    "#### inputs -> InputSet"
   ]
  },
  {
   "cell_type": "markdown",
   "id": "08f48856",
   "metadata": {},
   "source": [
    "#### input -> Input"
   ]
  },
  {
   "cell_type": "markdown",
   "id": "08f48856",
   "metadata": {},
   "source": [
    "#### results -> ResultSet"
   ]
  },
  {
   "cell_type": "markdown",
   "id": "08f48856",
   "metadata": {},
   "source": [
    "#### result -> Result"
   ]
  },
  {
   "cell_type": "markdown",
   "id": "08f48856",
   "metadata": {},
   "source": [
    "### Input"
   ]
  },
  {
   "cell_type": "markdown",
   "id": "08f48856",
   "metadata": {},
   "source": [
    "#### contract -> CompAnalytics.Contracts.ModuleInput"
   ]
  },
  {
   "cell_type": "markdown",
   "id": "08f48856",
   "metadata": {},
   "source": [
    "#### to_pandas"
   ]
  },
  {
   "cell_type": "markdown",
   "id": "08f48856",
   "metadata": {},
   "source": [
    "Will raise exception if value is not of type `CompAnalytics.Contracts.Tables.Table`. More information about the Composable Table to pandas DataFrame conversion can be found [here](#tables)."
   ]
  },
  {
   "cell_type": "markdown",
   "id": "08f48856",
   "metadata": {},
   "source": [
    "- to_pandas() -> pandas.DataFrame"
   ]
  },
  {
   "cell_type": "code",
   "execution_count": null,
   "id": "659b2eb1",
   "metadata": {},
   "outputs": [],
   "source": [
    "dataflow_object.modules[0].input.to_pandas()"
   ]
  },
  {
   "cell_type": "markdown",
   "id": "08f48856",
   "metadata": {},
   "source": [
    "#### to_file"
   ]
  },
  {
   "cell_type": "markdown",
   "id": "08f48856",
   "metadata": {},
   "source": [
    "Downloads file to a local specified directory and returns a new `CompAnalytics.Contracts.FileReference` to that file. If no file name is supplied, will use the name from the original file. Will raise exception if value is not of type `CompAnalytics.Contracts.FileReference`. More information about file references can be found [here](#file-references)."
   ]
  },
  {
   "cell_type": "markdown",
   "id": "08f48856",
   "metadata": {},
   "source": [
    "- to_file(save_dir: pathlib.Path, file_name: str = None) -> CompAnalytics.Contracts.FileReference"
   ]
  },
  {
   "cell_type": "code",
   "execution_count": null,
   "id": "e75cc4f0",
   "metadata": {},
   "outputs": [],
   "source": [
    "dataflow_object.modules[0].input.to_file(save_dir=\".\", file_name=\"optional_file_name\")"
   ]
  },
  {
   "cell_type": "markdown",
   "id": "08f48856",
   "metadata": {},
   "source": [
    "#### name -> str"
   ]
  },
  {
   "cell_type": "markdown",
   "id": "08f48856",
   "metadata": {},
   "source": [
    "#### type -> any"
   ]
  },
  {
   "cell_type": "markdown",
   "id": "08f48856",
   "metadata": {},
   "source": [
    "#### value -> any"
   ]
  },
  {
   "cell_type": "markdown",
   "id": "08f48856",
   "metadata": {},
   "source": [
    "### Result"
   ]
  },
  {
   "cell_type": "markdown",
   "id": "08f48856",
   "metadata": {},
   "source": [
    "#### contract -> CompAnalytics.Contracts.ModuleOutput"
   ]
  },
  {
   "cell_type": "markdown",
   "id": "08f48856",
   "metadata": {},
   "source": [
    "#### to_pandas"
   ]
  },
  {
   "cell_type": "markdown",
   "id": "08f48856",
   "metadata": {},
   "source": [
    "Will raise exception if value is not of type `CompAnalytics.Contracts.Tables.Table`. More information about the Composable Table to pandas DataFrame conversion can be found [here](#tables)."
   ]
  },
  {
   "cell_type": "markdown",
   "id": "08f48856",
   "metadata": {},
   "source": [
    "- to_pandas() -> pandas.DataFrame"
   ]
  },
  {
   "cell_type": "code",
   "execution_count": null,
   "id": "659b2eb1",
   "metadata": {},
   "outputs": [],
   "source": [
    "dataflow_object.modules[0].result.to_pandas()"
   ]
  },
  {
   "cell_type": "markdown",
   "id": "08f48856",
   "metadata": {},
   "source": [
    "#### to_file"
   ]
  },
  {
   "cell_type": "markdown",
   "id": "08f48856",
   "metadata": {},
   "source": [
    "Downloads file to a local specified directory and returns a new `CompAnalytics.Contracts.FileReference` to that file. If no file name is supplied, will use the name from the original file. Will raise exception if value is not of type `CompAnalytics.Contracts.FileReference`. More information about file references can be found [here](#file-references)."
   ]
  },
  {
   "cell_type": "markdown",
   "id": "08f48856",
   "metadata": {},
   "source": [
    "- to_file(save_dir: pathlib.Path, file_name: str = None) -> CompAnalytics.Contracts.FileReference"
   ]
  },
  {
   "cell_type": "code",
   "execution_count": null,
   "id": "e75cc4f0",
   "metadata": {},
   "outputs": [],
   "source": [
    "dataflow_object.modules[0].result.to_file(save_dir=\".\", file_name=\"optional_file_name\")"
   ]
  },
  {
   "cell_type": "markdown",
   "id": "08f48856",
   "metadata": {},
   "source": [
    "#### name -> str"
   ]
  },
  {
   "cell_type": "markdown",
   "id": "08f48856",
   "metadata": {},
   "source": [
    "#### type -> any"
   ]
  },
  {
   "cell_type": "markdown",
   "id": "08f48856",
   "metadata": {},
   "source": [
    "#### value -> any"
   ]
  },
  {
   "cell_type": "markdown",
   "id": "6eb01c6b-2d7b-4401-b4c5-023f30ae675c",
   "metadata": {},
   "source": [
    "### Filtering/Retrieving for ModuleSet, ResultSet, InputSet"
   ]
  },
  {
   "cell_type": "code",
   "execution_count": null,
   "id": "4c01a8f3",
   "metadata": {},
   "outputs": [],
   "source": [
    "from composapy.dataflow.models import ModuleSet, InputSet, ResultSet"
   ]
  },
  {
   "cell_type": "markdown",
   "id": "6f2a03a6",
   "metadata": {},
   "source": [
    "- dataflow_object.modules -> ModuleSet\n",
    "- dataflow_run.modules -> ModuleSet\n",
    "- modules.inputs -> InputSet\n",
    "- modules.results -> ResultSet"
   ]
  },
  {
   "cell_type": "markdown",
   "id": "512db0bf",
   "metadata": {},
   "source": [
    "Set objects (`ModuleSet`/`InputSet`/`ResultSet`) all have the following available behaviors."
   ]
  },
  {
   "cell_type": "markdown",
   "id": "3012a148",
   "metadata": {},
   "source": [
    "#### filter\n",
    "\n",
    "- x.filter(key=value) -> SetType\n",
    "\n",
    "Return all keys with value as a set."
   ]
  },
  {
   "cell_type": "code",
   "execution_count": null,
   "id": "d97418de-2841-4f87-8eee-1080bab3567f",
   "metadata": {},
   "outputs": [],
   "source": [
    "calculator_modules = dataflow_run.modules.filter(name=\"Calculator\")\n",
    "for module in calculator_modules:\n",
    "    print(module)\n",
    "\n",
    "# Module(name='Calculator', type=Calculator)\n",
    "# Module(name='Calculator', type=Calculator)"
   ]
  },
  {
   "cell_type": "markdown",
   "id": "3012a148",
   "metadata": {},
   "source": [
    "#### get\n",
    "\n",
    "- x.get(key=value) -> SingularType\n",
    "\n",
    "Return expects exactly one key with result, otherwise will raise exception.\n",
    "- `FoundMultipleError`\n",
    "- `NoneFoundError`"
   ]
  },
  {
   "cell_type": "code",
   "execution_count": null,
   "id": "eda53a69",
   "metadata": {},
   "outputs": [],
   "source": [
    "dataflow_run.modules.get(name=\"String Input\")  # Module(name='String Input', type=String Input)\n",
    "dataflow_run.modules.get(name=\"String Input\").results.get(value=\"This is a test string\")  # Result(name='Result', type=String, value='This is a test string')"
   ]
  },
  {
   "cell_type": "markdown",
   "id": "71084fae",
   "metadata": {},
   "source": [
    "#### index\n",
    "\n",
    "- x\\[index\\] -> SingularType\n",
    "\n",
    "Indexing works as you would expect it to."
   ]
  },
  {
   "cell_type": "code",
   "execution_count": null,
   "id": "05e46328",
   "metadata": {},
   "outputs": [],
   "source": [
    "dataflow_run.modules[3]  # Module(name='String Formatter', type=String Formatter)"
   ]
  },
  {
   "cell_type": "markdown",
   "id": "0920541c",
   "metadata": {},
   "source": [
    "#### first\n",
    "\n",
    "- x.first() -> SingularType\n",
    "\n",
    "For convenience, instead of accessing with an index, you can also get the first result of any set with the first method."
   ]
  },
  {
   "cell_type": "code",
   "execution_count": null,
   "id": "d14ca2c7",
   "metadata": {},
   "outputs": [],
   "source": [
    "dataflow_run.modules.first()  # Module(name='Calculator', type=Calculator)"
   ]
  },
  {
   "cell_type": "markdown",
   "id": "f589d296",
   "metadata": {},
   "source": [
    "#### dataflow_object.module, module.result, module.input (singular nouns)\n",
    "\n",
    "Instead of accessing `results` and using `first()` or `[0]`, you can instead use `result`. This works for `module`, `result` and `input`. Attempts to use these when there are more than one will raise an exception."
   ]
  },
  {
   "cell_type": "code",
   "execution_count": null,
   "id": "4da2cd22",
   "metadata": {},
   "outputs": [],
   "source": [
    "dataflow_run.modules.get(name=\"String Formatter\").result  # Result(name='Result', type=String, value='This is a test format')"
   ]
  },
  {
   "cell_type": "markdown",
   "id": "643589e9-9ae7-4044-a31a-1b47fa26e5d6",
   "metadata": {},
   "source": [
    "### Tables"
   ]
  },
  {
   "cell_type": "code",
   "execution_count": null,
   "id": "b17b9fe0",
   "metadata": {},
   "outputs": [],
   "source": [
    "import pandas as pd\n",
    "from CompAnalytics.Contracts.Tables import Table"
   ]
  },
  {
   "cell_type": "markdown",
   "id": "457d356e-53c3-4553-bfb9-14228d9630ea",
   "metadata": {},
   "source": [
    "For convenience, `Result` objects that contain Composable Tables are displayed as a pandas DataFrame inside of notebooks (the object is still a `Result` object, and the member `value` will still be a `Table` contract)."
   ]
  },
  {
   "cell_type": "code",
   "execution_count": null,
   "id": "54d08985-dab2-4339-875d-1c73b08a6ee4",
   "metadata": {},
   "outputs": [],
   "source": [
    "table_run = dataflow_api.get_run(138123)\n",
    "table_run.modules.first().result\n",
    "\n",
    "# .to_markdown() was used for markdown presentation purposes\n",
    "# \n",
    "# +----+-----+-----+-----+\n",
    "# |    | a   | o   | e   |\n",
    "# +====+=====+=====+=====+\n",
    "# |  0 | a   | o   | e   |\n",
    "# +----+-----+-----+-----+\n",
    "# |  1 | e   |     |     |\n",
    "# +----+-----+-----+-----+\n",
    "# |  2 | e   |     |     |\n",
    "# +----+-----+-----+-----+"
   ]
  },
  {
   "cell_type": "markdown",
   "id": "1a372a38",
   "metadata": {},
   "source": [
    "To get the pandas DataFrame `Result` of a Composable Table, use `result.to_pandas()`."
   ]
  },
  {
   "cell_type": "code",
   "execution_count": null,
   "id": "05439bca",
   "metadata": {},
   "outputs": [],
   "source": [
    "result_df = table_run.modules.first().result.to_pandas()  # pd.DataFrame"
   ]
  },
  {
   "cell_type": "code",
   "execution_count": null,
   "id": "1efd7274",
   "metadata": {},
   "outputs": [],
   "source": [
    "result_value = table_run.modules.first().result.value  # CompAnalytics.Contracts.Table"
   ]
  },
  {
   "cell_type": "markdown",
   "id": "cf6ef6c4",
   "metadata": {},
   "source": [
    "### File References"
   ]
  },
  {
   "cell_type": "markdown",
   "id": "0b8e75e5",
   "metadata": {},
   "source": [
    "For DataFlows that contain values of type `Contracts.FileReference`, the result value gives you the object with some information needed to retrieve the information of your file. Instead of accessing the `value` property, you can use the `to_file` method to download the file to your local workspace."
   ]
  },
  {
   "cell_type": "markdown",
   "id": "62a3486e",
   "metadata": {},
   "source": [
    "#### \\_\\_init\\_\\_"
   ]
  },
  {
   "cell_type": "markdown",
   "id": "62a3486e",
   "metadata": {},
   "source": [
    "- FileRef(path_like: str | pathlib.Path) -> CompAnalytics.Contracts.FileReference"
   ]
  },
  {
   "cell_type": "code",
   "execution_count": null,
   "id": "c96111fd",
   "metadata": {},
   "outputs": [],
   "source": [
    "from composapy.helper import file_ref\n",
    "\n",
    "_ref = file_ref(\"path/to/file.txt\")  # CompAnalytics.Contracts.FileReference"
   ]
  },
  {
   "cell_type": "markdown",
   "id": "62a3486e",
   "metadata": {},
   "source": [
    "#### to_file"
   ]
  },
  {
   "cell_type": "markdown",
   "id": "62a3486e",
   "metadata": {},
   "source": [
    "- result.to_file(save_dir: str, file_name: str = None) -> CompAnalytics.Contracts.FileReference"
   ]
  },
  {
   "cell_type": "code",
   "execution_count": null,
   "id": "01510bc0",
   "metadata": {},
   "outputs": [],
   "source": [
    "run = dataflow_api.get_run(654321)\n",
    "run.modules.first().result.to_file(\"relative/path/to/dir\", file_name=\"optional_name.txt\")  # file_name uses original file name if kwargs are not specified"
   ]
  },
  {
   "cell_type": "markdown",
   "id": "cf6ef6c4",
   "metadata": {},
   "source": [
    "## Additional Information"
   ]
  },
  {
   "cell_type": "markdown",
   "id": "ef51313e",
   "metadata": {},
   "source": [
    "Also, if you want to interface with <a href=\"https://github.com/pythonnet/pythonnet\" target=\"_blank\">pythonnet</a> more closely -- you can find our csharp documentation <a href=\"https://dev.composable.ai/api/CompAnalytics.Contracts.html\" target=\"_blank\">here</a>."
   ]
  }
 ],
 "metadata": {
  "jupytext": {
   "notebook_metadata_filter": "-all"
  },
  "kernelspec": {
   "display_name": "Python 3 (ipykernel)",
   "language": "python",
   "name": "python3"
  },
  "language_info": {
   "codemirror_mode": {
    "name": "ipython",
    "version": 3
   },
   "file_extension": ".py",
   "mimetype": "text/x-python",
   "name": "python",
   "nbconvert_exporter": "python",
   "pygments_lexer": "ipython3",
   "version": "3.8.10"
  }
 },
 "nbformat": 4,
 "nbformat_minor": 5
}
