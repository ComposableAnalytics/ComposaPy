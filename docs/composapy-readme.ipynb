{
 "cells": [
  {
   "cell_type": "markdown",
   "id": "d1f65e0b-0308-41b0-9dac-4471d6540d6a",
   "metadata": {
    "tags": []
   },
   "source": [
    "# [readme] composapy\n",
    "\n",
    "DataLabs comes pre-installed with Composapy, a python package that makes it easy to\n",
    "programmatically interface with Composable. Composapy allows you to interactively author, execute\n",
    "and retrieve results from DataFlows (Directed Acyclic Graphs, DAGs).\n",
    "\n",
    "- [#Quick-Start](#quick-start) : some simple use cases and examples\n",
    "- [#Reference](#reference) : more details about the components\n",
    "- [#Additional-Information](#additional-information) : some other links to information outside of this repo\n",
    "\n",
    "## Quick-Start\n",
    "\n",
    "### Register a Session\n",
    "\n",
    "Composapy looks for the environment variable `APPLICATION_URI` by default (set by DataLabs). If you are using Composapy outside of the datalabs environment and the `APPLICATION_URI`\n",
    "environment variable is not set, you can set it with keyword argument `uri`. You can create a session with Windows Authentication (if you are in DataLab, this will be the same as the \n",
    "key on the DataLab edit screen), [`string`] API Token (can be generated on the composable website), or with a [`tuple[str, str]`] username/password combination."
   ]
  },
  {
   "cell_type": "code",
   "execution_count": 3,
   "id": "5c4227fb-b131-4d72-a39c-bb7d90cccbbd",
   "metadata": {},
   "outputs": [],
   "source": [
    "from composapy.session import Session\n",
    "\n",
    "# use one of the following three methods of authentication\n",
    "session = Session(auth_mode=Session.AuthMode.WINDOWS)                                                                           # Windows Auth\n",
    "session = Session(auth_mode=Session.AuthMode.TOKEN, credentials=\"<your-api-token-here>\", uri=\"http://localhost/CompAnalytics/\") # Token\n",
    "session = Session(auth_mode=Session.AuthMode.FORM, credentials=(\"username\", \"password\"))                                        # Form\n",
    "\n",
    "session.register()  # register your session so that composapy uses this"
   ]
  },
  {
   "cell_type": "markdown",
   "source": [
    "### Create/Save a DataFlow\n",
    "\n",
    "[DataFlowObject's](#dataflowobject) can be initialized with the [DataFlow API](#dataflow) method - [create](#create). It takes either a json string (_kwarg_ `json`) or path to a json file (_kwarg_ `file_path`) as parameters. Call the `save` method on an unsaved `DataFlowObject` to save it in the Composable database. Saving it will make give it an `id`, making it available for use in the [Composable Designer](https://github.com/ComposableAnalytics/Docs/blob/master/docs/DataFlows/02.Composable-Designer.md)."
   ],
   "metadata": {
    "collapsed": false
   }
  },
  {
   "cell_type": "code",
   "execution_count": null,
   "id": "13c9e4fc",
   "metadata": {},
   "outputs": [],
   "source": [
    "from composapy.dataflow.api import DataFlow\n",
    "\n",
    "dataflow_object = DataFlow.create(file_path=\"simple-dataflow.json\")         # DataFlowObject(id=None)\n",
    "dataflow_object = DataFlow.create(file_path=\"simple-dataflow.json\").save()  # DataFlowObject(id=123456)"
   ]
  },
  {
   "cell_type": "markdown",
   "id": "140579b6",
   "metadata": {},
   "source": [
    "### Run a DataFlow\n",
    "\n",
    "To run a saved DataFlow, you can retrieve the `appId` in the DataFlow's URL."
   ]
  },
  {
   "cell_type": "code",
   "execution_count": null,
   "id": "1a2192f9",
   "metadata": {},
   "outputs": [],
   "source": [
    "dataflow_run = DataFlow.run(444333)  # DataFlowRun(id=444333)"
   ]
  },
  {
   "cell_type": "markdown",
   "id": "655f7d34",
   "metadata": {},
   "source": [
    "To run a DataFlow that has external input modules, use the `external_inputs` kwarg, which is a dictionary with key equal to the external modules name field and the value equal to what you want to pass in."
   ]
  },
  {
   "cell_type": "code",
   "execution_count": null,
   "id": "d2c97711",
   "metadata": {},
   "outputs": [],
   "source": [
    "dataflow_run = DataFlow.run(444333, external_inputs={\"a_string_external_input\": \"foo string\"})   # DataFlowRun(id=444333)"
   ]
  },
  {
   "cell_type": "markdown",
   "id": "1c28c4ca",
   "metadata": {},
   "source": [
    "### DataFlowObject/DataFlowRun Modules"
   ]
  },
  {
   "cell_type": "code",
   "execution_count": null,
   "id": "55f5b572",
   "metadata": {},
   "outputs": [],
   "source": [
    "dataflow_run.modules[0]  # Module(name='Calculator', type=Calculator)"
   ]
  },
  {
   "cell_type": "markdown",
   "id": "1c28c4ca",
   "metadata": {},
   "source": [
    "### DataFlowObject/DataFlowRun Input"
   ]
  },
  {
   "cell_type": "code",
   "execution_count": null,
   "id": "55f5b572",
   "metadata": {},
   "outputs": [],
   "source": [
    "dataflow_object.modules.filter(name=\"calc module name\")[0].inputs.first()  # Input(name=Param1, type=Double, value=1.0)"
   ]
  },
  {
   "cell_type": "markdown",
   "id": "1c28c4ca",
   "metadata": {},
   "source": [
    "### DataFlowRun Result"
   ]
  },
  {
   "cell_type": "code",
   "execution_count": null,
   "id": "55f5b572",
   "metadata": {},
   "outputs": [],
   "source": [
    "dataflow_run.modules.get(name=\"string module name\").result           # Result(name='foo name', type=String, value='foo value')"
   ]
  },
  {
   "cell_type": "markdown",
   "id": "20ca4b53-ce15-44f7-a531-0fadb1d4a343",
   "metadata": {},
   "source": [
    "## Reference\n",
    "\n",
    "### Session\n",
    "\n",
    "#### AuthMode\n",
    "\n",
    "- WINDOWS\n",
    "- TOKEN\n",
    "- FORM\n",
    "\n",
    "#### \\_\\_init\\_\\_\n",
    "\n",
    "- Session(auth_mode: AuthMode = Session.AuthMode.WINDOWS, credentials: Optional[str | tuple[str, str]] = None, uri: str = None)"
   ]
  },
  {
   "cell_type": "code",
   "execution_count": null,
   "id": "1d7c4179",
   "metadata": {},
   "outputs": [],
   "source": [
    "Session(auth_mode=Session.AuthMode.WINDOWS)                                                                           # Windows Auth\n",
    "Session(auth_mode=Session.AuthMode.TOKEN, credentials=\"<your-api-token-here>\")                                        # Token\n",
    "Session(auth_mode=Session.AuthMode.FORM, credentials=(\"username\", \"password\"), uri=\"http://localhost/CompAnalytics/\") # Form"
   ]
  },
  {
   "cell_type": "markdown",
   "source": [
    "#### register\n",
    "\n",
    "- session.register() -> None\n",
    "\n",
    "Updates the current running environment to use session for authentication."
   ],
   "metadata": {
    "collapsed": false,
    "pycharm": {
     "name": "#%% md\n"
    }
   }
  },
  {
   "cell_type": "code",
   "execution_count": null,
   "outputs": [],
   "source": [
    "session = Session(auth_mode=Session.AuthMode.WINDOWS)\n",
    "session.register()"
   ],
   "metadata": {
    "collapsed": false,
    "pycharm": {
     "name": "#%%\n"
    }
   }
  },
  {
   "cell_type": "markdown",
   "source": [
    "#### clear_registration\n",
    "\n",
    "- Session.clear_registration() -> None\n",
    "\n",
    "Sets the current registered session to `None`.\n",
    "\n",
    "### DataFlow\n",
    "\n",
    "#### get\n",
    "\n",
    "- get(id: int) -> DataFlowObject"
   ],
   "metadata": {
    "collapsed": false,
    "pycharm": {
     "name": "#%% md\n"
    }
   }
  },
  {
   "cell_type": "code",
   "execution_count": null,
   "id": "1b756f35",
   "metadata": {},
   "outputs": [],
   "source": [
    "DataFlow.get(123456)  # DataFlowObject(id=123456)"
   ]
  },
  {
   "cell_type": "markdown",
   "id": "b89efd20",
   "metadata": {},
   "source": [
    "#### get_run\n",
    "\n",
    "- get_run(id: int) -> DataFlowRun"
   ]
  },
  {
   "cell_type": "code",
   "execution_count": null,
   "id": "eae82a30",
   "metadata": {},
   "outputs": [],
   "source": [
    "DataFlow.get_run(654321)  # DataFlowRun(id=654321)"
   ]
  },
  {
   "cell_type": "markdown",
   "metadata": {
    "collapsed": false,
    "pycharm": {
     "name": "#%% md\n"
    }
   },
   "source": [
    "#### create\n",
    "\n",
    "- create(json: str = None, file_path: str = None) -> DataFlowObject\n",
    "\n",
    "json **or** file_path. Supplying arguments to both will raise exception."
   ]
  },
  {
   "cell_type": "code",
   "execution_count": null,
   "id": "53c6906e",
   "metadata": {},
   "outputs": [],
   "source": [
    "DataFlow.create(file_path=\"simple-dataflow.json\")  # DataFlowObject(id=None)"
   ]
  },
  {
   "cell_type": "markdown",
   "id": "2e159175",
   "metadata": {},
   "source": [
    "#### run\n",
    "\n",
    "If there are any external inputs in the DataFlow, you can supply them with (_kwarg_ `external_inputs`). It takes the external input name as a key and the external input value as value. You can find more about external input modules [here](https://github.com/ComposableAnalytics/Docs/blob/master/docs/DataFlows/06.DataFlow-Reuse.md#creation).\n",
    "\n",
    "- run(id: int) -> DataFlowRun"
   ]
  },
  {
   "cell_type": "code",
   "execution_count": null,
   "id": "bb8b65c9",
   "metadata": {},
   "outputs": [],
   "source": [
    "DataFlow.run(123456)  # DataFlowRun(id=234567)"
   ]
  },
  {
   "cell_type": "markdown",
   "id": "e6476fb0",
   "metadata": {},
   "source": [
    "- run(id: int, external_inputs: Dict[str, any]) -> DataFlowRun"
   ]
  },
  {
   "cell_type": "code",
   "execution_count": null,
   "id": "af2cd793",
   "metadata": {},
   "outputs": [],
   "source": [
    "DataFlow.run(123456, external_inputs={\"external_int_input_name\": 3})  # DataFlowRun(id=333222)"
   ]
  },
  {
   "cell_type": "markdown",
   "id": "08f48856",
   "metadata": {},
   "source": [
    "### DataFlowObject"
   ]
  },
  {
   "cell_type": "markdown",
   "id": "27b7deaf",
   "metadata": {},
   "source": [
    "#### contract -> CompAnalytics.Contracts.Application\n",
    "\n",
    "**Note:** DataFlowObject ID's are unique and different from DataFlowRun ID's.\n",
    "\n",
    "Using the [DataFlow](#dataflow) api, you can retrieve saved _dataflows_ as `DataFlowObject`'s."
   ]
  },
  {
   "cell_type": "code",
   "execution_count": null,
   "id": "69c4c277",
   "metadata": {},
   "outputs": [],
   "source": [
    "DataFlow.get(123456)  # DataFlowObject(id=123456)"
   ]
  },
  {
   "cell_type": "markdown",
   "id": "44eecb94",
   "metadata": {},
   "source": [
    "#### save\n",
    "\n",
    "- save() -> DataFlowObject"
   ]
  },
  {
   "cell_type": "code",
   "execution_count": null,
   "id": "1539745f",
   "metadata": {},
   "outputs": [],
   "source": [
    "dataflow_object = DataFlow.create(file_path=\"dataflow.json\")  # DataFlowObject(id=None)\n",
    "dataflow_object.save()                                        # DataFlowObject(id=123456)"
   ]
  },
  {
   "cell_type": "markdown",
   "id": "0f58580d",
   "metadata": {},
   "source": [
    "#### run\n",
    "\n",
    "- run() -> DataFlowRun"
   ]
  },
  {
   "cell_type": "code",
   "execution_count": null,
   "id": "15a020a2",
   "metadata": {},
   "outputs": [],
   "source": [
    "dataflow_run = dataflow_object.run()  # DataFlowRun(id=234567)"
   ]
  },
  {
   "cell_type": "markdown",
   "id": "2adbd83e",
   "metadata": {},
   "source": [
    "#### Properties"
   ]
  },
  {
   "cell_type": "markdown",
   "id": "48d697b5",
   "metadata": {},
   "source": [
    "##### id -> int"
   ]
  },
  {
   "cell_type": "markdown",
   "id": "48d697b5",
   "metadata": {},
   "source": [
    "##### module -> Module"
   ]
  },
  {
   "cell_type": "markdown",
   "id": "48d697b5",
   "metadata": {},
   "source": [
    "##### modules -> ModuleSet"
   ]
  },
  {
   "cell_type": "markdown",
   "id": "08f48856",
   "metadata": {},
   "source": [
    "### DataFlowRun"
   ]
  },
  {
   "cell_type": "markdown",
   "id": "27b7deaf",
   "metadata": {},
   "source": [
    "#### contract -> CompAnalytics.Contracts.ExecutionState"
   ]
  },
  {
   "cell_type": "markdown",
   "id": "2adbd83e",
   "metadata": {},
   "source": [
    "#### Properties"
   ]
  },
  {
   "cell_type": "markdown",
   "id": "48d697b5",
   "metadata": {},
   "source": [
    "##### id -> int"
   ]
  },
  {
   "cell_type": "markdown",
   "id": "48d697b5",
   "metadata": {},
   "source": [
    "##### app_id -> int\n",
    "\n",
    "Refers to the application id this run is a part of. This can be None if it was run with an unsaved DataFlow."
   ]
  },
  {
   "cell_type": "markdown",
   "id": "48d697b5",
   "metadata": {},
   "source": [
    "##### module -> Module"
   ]
  },
  {
   "cell_type": "markdown",
   "id": "48d697b5",
   "metadata": {},
   "source": [
    "##### modules -> ModuleSet"
   ]
  },
  {
   "cell_type": "markdown",
   "id": "08f48856",
   "metadata": {},
   "source": [
    "### Module"
   ]
  },
  {
   "cell_type": "markdown",
   "id": "08f48856",
   "metadata": {},
   "source": [
    "#### contract -> CompAnalytics.Contracts.Module"
   ]
  },
  {
   "cell_type": "markdown",
   "id": "08f48856",
   "metadata": {},
   "source": [
    "#### name -> str"
   ]
  },
  {
   "cell_type": "markdown",
   "id": "08f48856",
   "metadata": {},
   "source": [
    "#### type -> any"
   ]
  },
  {
   "cell_type": "markdown",
   "id": "08f48856",
   "metadata": {},
   "source": [
    "#### inputs -> InputSet"
   ]
  },
  {
   "cell_type": "markdown",
   "id": "08f48856",
   "metadata": {},
   "source": [
    "#### input -> Input"
   ]
  },
  {
   "cell_type": "markdown",
   "id": "08f48856",
   "metadata": {},
   "source": [
    "#### results -> ResultSet"
   ]
  },
  {
   "cell_type": "markdown",
   "id": "08f48856",
   "metadata": {},
   "source": [
    "#### result -> Result"
   ]
  },
  {
   "cell_type": "markdown",
   "id": "08f48856",
   "metadata": {},
   "source": [
    "### Input"
   ]
  },
  {
   "cell_type": "markdown",
   "id": "08f48856",
   "metadata": {},
   "source": [
    "#### contract -> CompAnalytics.Contracts.ModuleInput\n",
    "\n",
    "#### name -> str\n",
    "\n",
    "#### type -> any\n",
    "\n",
    "#### value -> any\n",
    "\n",
    "### Result\n",
    "\n",
    "#### contract -> CompAnalytics.Contracts.ModuleOutput\n",
    "\n",
    "#### name -> str\n",
    "\n",
    "#### type -> any\n",
    "\n",
    "#### value -> any\n",
    "\n",
    "### Filtering/Retrieving for ModuleSet, ResultSet, InputSet"
   ]
  },
  {
   "cell_type": "code",
   "execution_count": null,
   "id": "4c01a8f3",
   "metadata": {},
   "outputs": [],
   "source": [
    "from composapy.dataflow.models import ModuleSet, InputSet, ResultSet"
   ]
  },
  {
   "cell_type": "markdown",
   "id": "6f2a03a6",
   "metadata": {},
   "source": [
    "- dataflow_object.modules -> ModuleSet\n",
    "- dataflow_run.modules -> ModuleSet\n",
    "- modules.inputs -> InputSet\n",
    "- modules.results -> ResultSet\n",
    "\n",
    "Set objects (`ModuleSet`/`InputSet`/`ResultSet`) all have the following available behaviors.\n",
    "\n",
    "#### filter\n",
    "\n",
    "- x.filter(key=value) -> SetType\n",
    "\n",
    "Return all keys with value as a set."
   ]
  },
  {
   "cell_type": "code",
   "execution_count": null,
   "id": "d97418de-2841-4f87-8eee-1080bab3567f",
   "metadata": {},
   "outputs": [],
   "source": [
    "calculator_modules = dataflow_run.modules.filter(name=\"Calculator\")\n",
    "for module in calculator_modules:\n",
    "    print(module)\n",
    "\n",
    "# Module(name='Calculator', type=Calculator)\n",
    "# Module(name='Calculator', type=Calculator)"
   ]
  },
  {
   "cell_type": "markdown",
   "id": "3012a148",
   "metadata": {},
   "source": [
    "#### get\n",
    "\n",
    "- x.get(key=value) -> SingularType\n",
    "\n",
    "Return expects exactly one key with result, otherwise will raise exception.\n",
    "- `FoundMultipleError`\n",
    "- `NoneFoundError`"
   ]
  },
  {
   "cell_type": "code",
   "execution_count": null,
   "id": "eda53a69",
   "metadata": {},
   "outputs": [],
   "source": [
    "dataflow_run.modules.get(name=\"String Input\")  # Module(name='String Input', type=String Input)\n",
    "dataflow_run.modules.get(name=\"String Input\").results.get(value=\"This is a test string\")  # Result(name='Result', type=String, value='This is a test string')"
   ]
  },
  {
   "cell_type": "markdown",
   "id": "71084fae",
   "metadata": {},
   "source": [
    "#### index\n",
    "\n",
    "- x\\[index\\] -> SingularType\n",
    "\n",
    "Indexing works as you would expect it to."
   ]
  },
  {
   "cell_type": "code",
   "execution_count": null,
   "id": "05e46328",
   "metadata": {},
   "outputs": [],
   "source": [
    "dataflow_run.modules[3]  # Module(name='String Formatter', type=String Formatter)"
   ]
  },
  {
   "cell_type": "markdown",
   "id": "0920541c",
   "metadata": {},
   "source": [
    "#### first\n",
    "\n",
    "- x.first() -> SingularType\n",
    "\n",
    "For convenience, instead of accessing with an index, you can also get the first result of any set with the first method."
   ]
  },
  {
   "cell_type": "code",
   "execution_count": null,
   "id": "d14ca2c7",
   "metadata": {},
   "outputs": [],
   "source": [
    "dataflow_run.modules.first()  # Module(name='Calculator', type=Calculator)"
   ]
  },
  {
   "cell_type": "markdown",
   "id": "f589d296",
   "metadata": {},
   "source": [
    "#### dataflow_object.module, module.result, module.input (singular nouns)\n",
    "\n",
    "Instead of accessing `results` and using `first()` or `[0]`, you can instead use `result`. This works for `module`, `result` and `input`. Attempts to use these when there are more than one will raise an exception."
   ]
  },
  {
   "cell_type": "code",
   "execution_count": null,
   "id": "4da2cd22",
   "metadata": {},
   "outputs": [],
   "source": [
    "dataflow_run.modules.get(name=\"String Formatter\").result  # Result(name='Result', type=String, value='This is a test format')"
   ]
  },
  {
   "cell_type": "markdown",
   "id": "643589e9-9ae7-4044-a31a-1b47fa26e5d6",
   "metadata": {},
   "source": [
    "### CompAnalytics.Contracts.Tables.Table"
   ]
  },
  {
   "cell_type": "code",
   "execution_count": null,
   "id": "b17b9fe0",
   "metadata": {},
   "outputs": [],
   "source": [
    "from CompAnalytics.Contracts.Tables import Table"
   ]
  },
  {
   "cell_type": "markdown",
   "id": "457d356e-53c3-4553-bfb9-14228d9630ea",
   "metadata": {},
   "source": [
    "C# Contracts Reference - [CompAnalytics.Contracts.Tables.Table](https://dev.composable.ai/api/CompAnalytics.Contracts.Tables.Table.html)\n",
    "\n",
    "`Table` objects are container objects for queries. For convenience, their results are displayed\n",
    "as a pandas DataFrame in a notebook environment."
   ]
  },
  {
   "cell_type": "code",
   "execution_count": null,
   "id": "54d08985-dab2-4339-875d-1c73b08a6ee4",
   "metadata": {},
   "outputs": [],
   "source": [
    "table_run = DataFlow.get_run(138123)\n",
    "table_run.modules.first().result.value\n",
    "\n",
    "# .to_markdown() was used for markdown presentation purposes\n",
    "# \n",
    "# +----+-----+-----+-----+\n",
    "# |    | a   | o   | e   |\n",
    "# +====+=====+=====+=====+\n",
    "# |  0 | a   | o   | e   |\n",
    "# +----+-----+-----+-----+\n",
    "# |  1 | e   |     |     |\n",
    "# +----+-----+-----+-----+\n",
    "# |  2 | e   |     |     |\n",
    "# +----+-----+-----+-----+"
   ]
  },
  {
   "cell_type": "markdown",
   "id": "1a372a38",
   "metadata": {},
   "source": [
    "You can use `.to_pandas()` to get the pandas DataFrame representation of a `Table` object."
   ]
  },
  {
   "cell_type": "code",
   "execution_count": null,
   "id": "05439bca",
   "metadata": {},
   "outputs": [],
   "source": [
    "table = table_run.modules.first().result.value  # CompAnalytics.Contracts.Tables.Table\n",
    "table_df = table.to_pandas()                    # pandas.DataFrame"
   ]
  },
  {
   "cell_type": "markdown",
   "id": "cf6ef6c4",
   "metadata": {},
   "source": [
    "### CompAnalytics.Contracts.FileReference"
   ]
  },
  {
   "cell_type": "code",
   "execution_count": null,
   "outputs": [],
   "source": [
    "from CompAnalytics.Contracts import FileReference"
   ],
   "metadata": {
    "collapsed": false,
    "pycharm": {
     "name": "#%%\n"
    }
   }
  },
  {
   "cell_type": "markdown",
   "id": "0b8e75e5",
   "metadata": {},
   "source": [
    "C# Contracts Reference - [CompAnalytics.Contracts.FileReference](https://dev.composable.ai/api/CompAnalytics.Contracts.FileReference.html)\n",
    "\n",
    "For DataFlows that contain values of type `FileReference`, the `value` property contains the\n",
    "necessary information needed to retrieve the file. Composapy adds a convenience method,\n",
    "`to_file`, directly on the `FileReference` class. This gives you the ability to call `to_file`\n",
    "method directly on your `FileReference` object, which downloads the file to your local workspace\n",
    "and returns a `FileReference` pointing to the newly created file.\n",
    "\n",
    "#### to_file\n",
    "\n",
    "- file_reference.to_file(save_dir: pathlib.Path | str = None, file_name: str = None) -> CompAnalytics.Contracts.FileReference\n",
    "\n",
    "If no `save_dir` is provided, it uses the current working directory. If no `file_name` is\n",
    "provided, it will use the source file name."
   ]
  },
  {
   "cell_type": "code",
   "execution_count": null,
   "outputs": [],
   "source": [
    "run = DataFlow.get_run(654321)\n",
    "run.modules.first().result.value.to_file(save_dir=\"optional/relative/path/to/dir\", file_name=\"optional_name.txt\")"
   ],
   "metadata": {
    "collapsed": false,
    "pycharm": {
     "name": "#%%\n"
    }
   }
  },
  {
   "cell_type": "markdown",
   "id": "62a3486e",
   "metadata": {},
   "source": [
    "### file_ref\n",
    "\n",
    "If you need to create a new file reference (to pass as external inputs to a DataFlow), you can\n",
    "use the `file_ref` utility function.\n",
    "\n",
    "- file_ref(path_like: pathlib.Path | str) -> CompAnalytics.Contracts.FileReference"
   ]
  },
  {
   "cell_type": "code",
   "execution_count": null,
   "id": "c96111fd",
   "metadata": {},
   "outputs": [],
   "source": [
    "from composapy import file_ref\n",
    "_ref = file_ref(\"path/to/file.txt\")  # CompAnalytics.Contracts.FileReference"
   ]
  },
  {
   "cell_type": "markdown",
   "id": "cf6ef6c4",
   "metadata": {
    "pycharm": {
     "name": "#%% md\n"
    }
   },
   "source": [
    "## Additional Information\n",
    "\n",
    "Also, if you want to interface with <a href=\"https://github.com/pythonnet/pythonnet\" target=\"_blank\">pythonnet</a> more closely -- you can find our csharp documentation <a href=\"https://dev.composable.ai/api/CompAnalytics.Contracts.html\" target=\"_blank\">here</a>."
   ]
  }
 ],
 "metadata": {
  "jupytext": {
   "notebook_metadata_filter": "-all"
  },
  "kernelspec": {
   "display_name": "Python 3 (ipykernel)",
   "language": "python",
   "name": "python3"
  },
  "language_info": {
   "codemirror_mode": {
    "name": "ipython",
    "version": 3
   },
   "file_extension": ".py",
   "mimetype": "text/x-python",
   "name": "python",
   "nbconvert_exporter": "python",
   "pygments_lexer": "ipython3",
   "version": "3.8.10"
  }
 },
 "nbformat": 4,
 "nbformat_minor": 5
}